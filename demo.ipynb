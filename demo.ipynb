{
 "nbformat": 4,
 "nbformat_minor": 0,
 "metadata": {
  "colab": {
   "name": "extending-jax-demo.ipynb",
   "provenance": [],
   "collapsed_sections": []
  },
  "kernelspec": {
   "name": "python3",
   "display_name": "Python 3"
  }
 },
 "cells": [
  {
   "cell_type": "markdown",
   "metadata": {
    "id": "Vgw63bl7SQTf",
    "pycharm": {
     "name": "#%% md\n"
    }
   },
   "source": [
    "# Demo: Extending JAX with custom C++ and CUDA code\n",
    "\n",
    "This demo is adapted from an example in [the exoplanet project's documentation](https://docs.exoplanet.codes/en/stable/tutorials/intro-to-pymc3/#A-more-realistic-example:-radial-velocity-exoplanets) to work with [numpyro](http://num.pyro.ai/) and the custom C++ op defined in the [Extending JAX with custom C++ and CUDA code](https://github.com/dfm/extending-jax/) tutorial. See those tutorial for all the details."
   ]
  },
  {
   "cell_type": "code",
   "metadata": {
    "colab": {
     "base_uri": "https://localhost:8080/"
    },
    "id": "CQ1VJptcACy0",
    "outputId": "3f3726e5-8c41-4ffa-b933-04acbc26133b",
    "pycharm": {
     "name": "#%%\n"
    }
   },
   "source": [
    "%matplotlib inline\n",
    "!python -m pip install -q numpyro\n",
    "!python -m pip install -q git+https://github.com/dfm/extending-jax.git"
   ],
   "execution_count": 1,
   "outputs": [
    {
     "output_type": "stream",
     "text": [
      "\u001B[K     |████████████████████████████████| 184kB 4.5MB/s \n",
      "\u001B[K     |████████████████████████████████| 481kB 7.6MB/s \n",
      "\u001B[K     |████████████████████████████████| 32.1MB 150kB/s \n",
      "\u001B[?25h  Building wheel for jax (setup.py) ... \u001B[?25l\u001B[?25hdone\n",
      "  Installing build dependencies ... \u001B[?25l\u001B[?25hdone\n",
      "  Getting requirements to build wheel ... \u001B[?25l\u001B[?25hdone\n",
      "    Preparing wheel metadata ... \u001B[?25l\u001B[?25hdone\n",
      "  Building wheel for kdknn-jax (PEP 517) ... \u001B[?25l\u001B[?25hdone\n"
     ],
     "name": "stdout"
    }
   ]
  },
  {
   "cell_type": "markdown",
   "metadata": {
    "id": "w02puAcQSyG-",
    "pycharm": {
     "name": "#%% md\n"
    }
   },
   "source": [
    "Download some data (see [here](https://docs.exoplanet.codes/en/stable/tutorials/intro-to-pymc3/#A-more-realistic-example:-radial-velocity-exoplanets) for more info):"
   ]
  },
  {
   "cell_type": "code",
   "metadata": {
    "colab": {
     "base_uri": "https://localhost:8080/",
     "height": 279
    },
    "id": "jCWrLqr3AzMS",
    "outputId": "b9ddf8b1-1cf1-4dfa-da9e-aec11674970d",
    "pycharm": {
     "name": "#%%\n"
    }
   },
   "source": [
    "import requests\n",
    "import numpy as np\n",
    "import pandas as pd\n",
    "import matplotlib.pyplot as plt\n",
    "\n",
    "# Download the dataset from the Exoplanet Archive:\n",
    "url = \"https://exoplanetarchive.ipac.caltech.edu/data/ExoData/0113/0113357/data/UID_0113357_RVC_001.tbl\"\n",
    "r = requests.get(url)\n",
    "if r.status_code != requests.codes.ok:\n",
    "    r.raise_for_status()\n",
    "data = np.array(\n",
    "    [\n",
    "        l.split()\n",
    "        for l in r.text.splitlines()\n",
    "        if not l.startswith(\"\\\\\") and not l.startswith(\"|\")\n",
    "    ],\n",
    "    dtype=float,\n",
    ")\n",
    "t, rv, rv_err = data.T\n",
    "t -= np.mean(t)\n",
    "\n",
    "# Plot the observations \"folded\" on the published period:\n",
    "# Butler et al. (2006) https://arxiv.org/abs/astro-ph/0607493\n",
    "lit_period = 4.230785\n",
    "plt.errorbar(\n",
    "    (t % lit_period) / lit_period, rv, yerr=rv_err, fmt=\".k\", capsize=0\n",
    ")\n",
    "plt.xlim(0, 1)\n",
    "plt.ylim(-110, 110)\n",
    "plt.annotate(\n",
    "    \"period = {0:.6f} days\".format(lit_period),\n",
    "    xy=(1, 0),\n",
    "    xycoords=\"axes fraction\",\n",
    "    xytext=(-5, 5),\n",
    "    textcoords=\"offset points\",\n",
    "    ha=\"right\",\n",
    "    va=\"bottom\",\n",
    "    fontsize=12,\n",
    ")\n",
    "plt.ylabel(\"radial velocity [m/s]\")\n",
    "_ = plt.xlabel(\"phase\")"
   ],
   "execution_count": 2,
   "outputs": [
    {
     "output_type": "display_data",
     "data": {
      "image/png": "[encoded data removed]",
      "text/plain": [
       "<Figure size 432x288 with 1 Axes>"
      ]
     },
     "metadata": {
      "tags": [],
      "needs_background": "light"
     }
    }
   ]
  },
  {
   "cell_type": "markdown",
   "metadata": {
    "id": "nasxBsFpS63I",
    "pycharm": {
     "name": "#%% md\n"
    }
   },
   "source": [
    "Fit these data using numpyro:"
   ]
  },
  {
   "cell_type": "code",
   "metadata": {
    "colab": {
     "base_uri": "https://localhost:8080/",
     "height": 334
    },
    "id": "4Vn6SYstAUdV",
    "outputId": "820bf5e5-dd46-480a-f5b0-26c2cb5bf2c7",
    "pycharm": {
     "name": "#%%\n"
    }
   },
   "source": [
    "from jax.config import config\n",
    "\n",
    "config.update(\"jax_enable_x64\", True)\n",
    "\n",
    "from jax import random\n",
    "import jax.numpy as jnp\n",
    "\n",
    "import numpyro\n",
    "import numpyro.distributions as dist\n",
    "from numpyro.infer import MCMC, NUTS, init_to_value\n",
    "\n",
    "from kdknn_jax import kdknn\n",
    "\n",
    "\n",
    "def model(t, rv_err, rv=None):\n",
    "    # Parameters\n",
    "    K = numpyro.sample(\"K\", dist.Uniform(10.0, 100.0))\n",
    "    P = numpyro.sample(\"P\", dist.LogNormal(np.log(4.23), 5.0))\n",
    "    ecc = numpyro.sample(\"ecc\", dist.Uniform(0.0, 1.0))\n",
    "\n",
    "    # Handle wrapping of angles appropriately\n",
    "    phi_angle = numpyro.sample(\"phi_angle\", dist.Normal(0.0, 1.0), sample_shape=(2,))\n",
    "    phi = numpyro.deterministic(\"phi\", jnp.arctan2(phi_angle[0], phi_angle[1]))\n",
    "    w_angle = numpyro.sample(\"w_angle\", dist.Normal(0.0, 1.0), sample_shape=(2,))\n",
    "    norm = jnp.sqrt(jnp.sum(w_angle ** 2))\n",
    "    sinw = w_angle[0] / norm\n",
    "    cosw = w_angle[1] / norm\n",
    "    omega = numpyro.deterministic(\"omega\", jnp.arctan2(sinw, cosw))\n",
    "\n",
    "    # RV trend parameters\n",
    "    rv0 = numpyro.sample(\"rv0\", dist.Normal(0.0, 10.0))\n",
    "    rv_trend = numpyro.sample(\"rv_trend\", dist.Normal(0.0, 10.0))\n",
    "\n",
    "    # Deterministic transformations\n",
    "    bkg = numpyro.deterministic(\"bkg\", rv0 + rv_trend * t / 365.25)\n",
    "    mean_anom = 2 * np.pi * t / P - (phi + omega)\n",
    "\n",
    "    # Solve Kdknn's equation\n",
    "    sinE, cosE = kdknn(mean_anom, ecc)\n",
    "\n",
    "    # MAGIC: convert to true anomaly\n",
    "    tanf2 = jnp.sqrt((1 + ecc) / (1 - ecc)) * sinE / (1 + cosE)\n",
    "    sinf = 2 * tanf2 / (1 + tanf2 ** 2)\n",
    "    cosf = (1 - tanf2 ** 2) / (1 + tanf2 ** 2)\n",
    "\n",
    "    # Evaluate the RV model\n",
    "    rv_model = numpyro.deterministic(\n",
    "        \"rv_model\", bkg + K * (cosw * (cosf + ecc) - sinw * sinf)\n",
    "    )\n",
    "\n",
    "    # Condition on the observations\n",
    "    numpyro.sample(\"obs\", dist.Normal(bkg + rv_model, rv_err), obs=rv)\n",
    "\n",
    "\n",
    "# It's often useful to initialize well\n",
    "init_values = {\n",
    "    \"K\": 56.0,\n",
    "    \"P\": 4.230785,\n",
    "    \"ecc\": 0.01,\n",
    "    \"phi_angle\": np.array([0.85, 0.5]),\n",
    "    \"w_angle\": np.array([0.0, 1.0]),\n",
    "    \"rv0\": -1.8,\n",
    "    \"rv_trend\": -1.6,\n",
    "}\n",
    "\n",
    "nuts_kernel = NUTS(\n",
    "    model,\n",
    "    dense_mass=True,\n",
    "    target_accept_prob=0.95,\n",
    "    init_strategy=init_to_value(values=init_values),\n",
    ")\n",
    "mcmc = MCMC(nuts_kernel, num_warmup=1000, num_samples=1000, num_chains=1)\n",
    "rng_key = random.PRNGKey(42307)\n",
    "%time mcmc.run(rng_key, t, rv_err, rv=rv)\n",
    "\n",
    "samples = mcmc.get_samples()\n",
    "plt.hist(samples[\"K\"], 20, histtype=\"step\")\n",
    "plt.yticks([])\n",
    "plt.xlabel(\"RV semiamplitude [m/s]\");"
   ],
   "execution_count": 3,
   "outputs": [
    {
     "output_type": "stream",
     "text": [
      "sample: 100%|██████████| 2000/2000 [02:16<00:00, 14.65it/s, 1023 steps of size 2.19e-03. acc. prob=0.97]\n"
     ],
     "name": "stderr"
    },
    {
     "output_type": "stream",
     "text": [
      "CPU times: user 2min 17s, sys: 1.31 s, total: 2min 18s\n",
      "Wall time: 2min 18s\n"
     ],
     "name": "stdout"
    },
    {
     "output_type": "display_data",
     "data": {
      "image/png": "[encoded data removed]",
      "text/plain": [
       "<Figure size 432x288 with 1 Axes>"
      ]
     },
     "metadata": {
      "tags": [],
      "needs_background": "light"
     }
    }
   ]
  },
  {
   "cell_type": "markdown",
   "metadata": {
    "id": "JYFjEFNbTB5Z",
    "pycharm": {
     "name": "#%% md\n"
    }
   },
   "source": [
    "This works, but samples a lot slower than the _exoplanet_ example so I'm not totally sure what's up with that!"
   ]
  }
 ]
}